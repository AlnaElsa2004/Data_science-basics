{
 "cells": [
  {
   "cell_type": "markdown",
   "id": "e04ceb40-51fe-4ecf-9747-bb675e476aad",
   "metadata": {},
   "source": [
    "Decision tree classifier from scratch and python using card algorithm"
   ]
  },
  {
   "cell_type": "markdown",
   "id": "8e55e015-d8ba-41b2-8517-f6f1cfdcc9b1",
   "metadata": {},
   "source": [
    "Initialising training_data which contain different fruits and their features"
   ]
  },
  {
   "cell_type": "code",
   "execution_count": 2,
   "id": "35b2a38e-2ed7-4452-9df1-8de0cf61e410",
   "metadata": {},
   "outputs": [],
   "source": [
    "training_data=[\n",
    "    ['Green',3,'Mango'],\n",
    "    ['Yellow',3,'Mango'],\n",
    "    ['Red',1,'Grape'],\n",
    "    ['Red',1,'Grape'],\n",
    "    ['Yellow',3,'Lemon'],\n",
    "]\n",
    "\n"
   ]
  },
  {
   "cell_type": "markdown",
   "id": "3be90d51-d8a1-4d6e-8136-c9c96d9df2b9",
   "metadata": {},
   "source": [
    " adding Column labels to print the tree"
   ]
  },
  {
   "cell_type": "code",
   "execution_count": 3,
   "id": "02e1e3a4-2950-4bea-9dde-6d67a642da4a",
   "metadata": {},
   "outputs": [],
   "source": [
    "header=[\"color\",\"diameter\",\"label\"]"
   ]
  },
  {
   "cell_type": "markdown",
   "id": "5bd9c5e6-ae79-48ba-9b06-9b72c936ade8",
   "metadata": {},
   "source": [
    "Define a function to find the unique values in the column in dataset"
   ]
  },
  {
   "cell_type": "code",
   "execution_count": 4,
   "id": "f46cf641-3161-4cd0-a40d-c002702457cb",
   "metadata": {},
   "outputs": [],
   "source": [
    "def unique_vals(rows,col):\n",
    "    return set([row[col] for row in rows])"
   ]
  },
  {
   "cell_type": "markdown",
   "id": "8a7d5ed1-7cc9-4c5d-8c90-a52bf64ff0a3",
   "metadata": {},
   "source": [
    "Define a function to count the number of each type of example in a dataset"
   ]
  },
  {
   "cell_type": "code",
   "execution_count": 30,
   "id": "c538ee79-6aaf-4a21-afde-254397856292",
   "metadata": {},
   "outputs": [],
   "source": [
    "def class_counts(rows):\n",
    "    counts={}\n",
    "    for row in rows:\n",
    "        label=row[-1]\n",
    "        if label not in counts:\n",
    "            counts[label]=0\n",
    "        counts[label]+=1\n",
    "    return counts"
   ]
  },
  {
   "cell_type": "markdown",
   "id": "f6ca6f4c-b635-466d-a5f4-7e2c50d941a9",
   "metadata": {},
   "source": [
    "Define a function to test if a value is numeric"
   ]
  },
  {
   "cell_type": "code",
   "execution_count": 31,
   "id": "3bbce240-06e8-4d2e-8e9e-22c903cd18ca",
   "metadata": {},
   "outputs": [],
   "source": [
    "def is_numeric(value):\n",
    "    return isinstance(value,int) or isinstance(value,float)"
   ]
  },
  {
   "cell_type": "markdown",
   "id": "c7121fca-5da2-4665-bbd5-a451e78e4944",
   "metadata": {},
   "source": [
    "Now we should define a class named \"Question\" to partition a dataset. \n",
    "           This class just records a 'colum number'(eg:0 for color) and a 'column value'(eg:Green).The match method is used to compare the feature value in an example to the feature value stored in the question"
   ]
  },
  {
   "cell_type": "code",
   "execution_count": 29,
   "id": "57b954d6-3b3c-43d6-b053-980ea1b2ed85",
   "metadata": {},
   "outputs": [],
   "source": [
    "class Question:\n",
    "    def __init__(self, column, value):\n",
    "        self.column = column\n",
    "        self.value = value\n",
    "\n",
    "    def match(self, example):\n",
    "        val = example[self.column]\n",
    "        if isinstance(val, int) or isinstance(val, float):\n",
    "            return val >= self.value\n",
    "        else:\n",
    "            return val == self.value\n",
    "\n",
    "    def __repr__(self):\n",
    "        condition = \"==\"\n",
    "        if isinstance(self.value, int) or isinstance(self.value, float):\n",
    "            condition = \">=\"\n",
    "        return f\"Is {self.column} {condition} {self.value}?\"\n"
   ]
  },
  {
   "cell_type": "markdown",
   "id": "a62bf775-5b73-4d46-87b1-9311879b9b0d",
   "metadata": {},
   "source": [
    "Define a function to partition the dataset"
   ]
  },
  {
   "cell_type": "code",
   "execution_count": 8,
   "id": "429aa128-444c-4113-9abe-37371e96b60a",
   "metadata": {},
   "outputs": [],
   "source": [
    "def partition(rows,question):\n",
    "    \"\"\"Partition is a dataset.\n",
    "\n",
    "    for each row in the dataset,check if it matches the question. If so,add\n",
    "    it to  'true rows', otherwise,add it to 'false rows'\n",
    "    \"\"\"\n",
    "    true_rows,false_rows=[],[]\n",
    "    for row in rows:\n",
    "        if question.match(row):\n",
    "            true_rows.append(row)\n",
    "        else:\n",
    "            false_rows.append(row)\n",
    "    return true_rows,false_rows        "
   ]
  },
  {
   "cell_type": "markdown",
   "id": "69643e58-1ff3-4bfb-8292-39b5c2412070",
   "metadata": {},
   "source": [
    "Define a function to calculate the Gini Impurity for a list of rows"
   ]
  },
  {
   "cell_type": "code",
   "execution_count": 32,
   "id": "53db8619-296c-45c1-b7b3-15e3cb278baa",
   "metadata": {},
   "outputs": [],
   "source": [
    "def gini(rows):\n",
    "    counts = class_counts(rows)\n",
    "    impurity = 1\n",
    "    for lbl in counts:\n",
    "        prob_of_lbl = counts[lbl] / float(len(rows))\n",
    "        impurity -= prob_of_lbl**2\n",
    "    return impurity"
   ]
  },
  {
   "cell_type": "markdown",
   "id": "3c570e15-e7cd-4f3a-866e-c592f28c80e3",
   "metadata": {},
   "source": [
    "Define a function to calculate the information gain by subtracting the weighted impurity of two child nodes from the uncertainity of starting node "
   ]
  },
  {
   "cell_type": "code",
   "execution_count": 33,
   "id": "86c63b89-3a88-4d50-ab3c-56c04f1d71dd",
   "metadata": {},
   "outputs": [],
   "source": [
    "def info_gain(left,right,current_uncertainity):\n",
    "    p=float(len(left))/(len(left)+len(right))\n",
    "    return current_uncertainity-p*gini(left)-(1-p)*gini(right)"
   ]
  },
  {
   "cell_type": "markdown",
   "id": "f7890e2c-e8f8-4644-b078-825fe26b00e4",
   "metadata": {},
   "source": [
    "Define a function to find the best question to ask by iterating over every feature/value and claculating the information gain"
   ]
  },
  {
   "cell_type": "code",
   "execution_count": 34,
   "id": "ed4dea8e-c3d9-49cd-a078-1852301cb7f8",
   "metadata": {},
   "outputs": [],
   "source": [
    "def find_best_split(rows):\n",
    "    best_gain = 0  # keep track of the best info gain\n",
    "    best_question = None  # keep track of the feature/value that produced it\n",
    "    current_uncertainity = gini(rows)\n",
    "    n_features = len(rows[0]) - 1  # number of columns\n",
    "\n",
    "    for col in range(n_features):\n",
    "        values = set([row[col] for row in rows])  # unique values in the column\n",
    "\n",
    "        for val in values:\n",
    "            question = Question(col, val)\n",
    "\n",
    "            # Try splitting the dataset\n",
    "            true_rows, false_rows = partition(rows, question)\n",
    "            \n",
    "            # Skip this split if it doesn't divide the dataset\n",
    "            if len(true_rows) == 0 or len(false_rows) == 0:\n",
    "                continue\n",
    "\n",
    "            # Calculate the info gain from this split\n",
    "            gain = info_gain(true_rows, false_rows, current_uncertainity)\n",
    "\n",
    "            if gain >= best_gain:\n",
    "                best_gain, best_question = gain, question\n",
    "\n",
    "    return best_gain, best_question\n"
   ]
  },
  {
   "cell_type": "markdown",
   "id": "2e76397b-7c5d-4b67-aea1-a9edad550eba",
   "metadata": {},
   "source": [
    "Define a class 'Leaf'"
   ]
  },
  {
   "cell_type": "code",
   "execution_count": 40,
   "id": "cf608ba7-2c62-4aac-93c6-59fa0a8b3111",
   "metadata": {},
   "outputs": [],
   "source": [
    "class Leaf:\n",
    "    \"\"\"A leaf node classifies data.\n",
    "    This holds a dictionary of class(eg:\"Mango\")-> number of times\n",
    "    it appears in the rows from the training data that reach this leaf.\n",
    "    \"\"\"\n",
    "    def __init__(self, rows):\n",
    "        self.predictions = class_counts(rows)\n",
    "\n",
    "class Decision_Node:\n",
    "    \"\"\"A Decision Node asks a question.\n",
    "    This holds a reference to the question and to the two child nodes.\n",
    "    \"\"\"\n",
    "    def __init__(self, question, true_branch, false_branch):\n",
    "        self.question = question\n",
    "        self.true_branch = true_branch\n",
    "        self.false_branch = false_branch\n",
    "        \n",
    "def build_tree(rows):\n",
    "    \"\"\"Builds the tree.\"\"\"\n",
    "    gain, question = find_best_split(rows)\n",
    "    if gain == 0:\n",
    "        return Leaf(rows)\n",
    "\n",
    "    true_rows, false_rows = partition(rows, question)\n",
    "    true_branch = build_tree(true_rows)\n",
    "    false_branch = build_tree(false_rows)\n",
    "\n",
    "    return Decision_Node(question, true_branch, false_branch)#return a question node"
   ]
  },
  {
   "cell_type": "markdown",
   "id": "81f641c7-68a7-4e0b-878d-80919a98c1f0",
   "metadata": {},
   "source": [
    "Define a function to print the tree"
   ]
  },
  {
   "cell_type": "code",
   "execution_count": 41,
   "id": "10fe503b-a490-4aee-b910-3d60d7e0c9c3",
   "metadata": {},
   "outputs": [],
   "source": [
    "def print_tree(node, spacing=\"\"):\n",
    "    # Base case: if this is a leaf node, print the predictions\n",
    "    if isinstance(node, Leaf):\n",
    "        print(spacing + \"Predict\", node.predictions)\n",
    "        return\n",
    "\n",
    "    # Print the question at this node\n",
    "    print(spacing + str(node.question))\n",
    "\n",
    "    # Call this function recursively on the true branch\n",
    "    print(spacing + '--> True:')\n",
    "    print_tree(node.true_branch, spacing + \"  \")\n",
    "\n",
    "    # Call this function recursively on the false branch\n",
    "    print(spacing + '--> False:')\n",
    "    print_tree(node.false_branch, spacing + \"  \")\n"
   ]
  },
  {
   "cell_type": "markdown",
   "id": "0d6939fa-5668-42d1-a331-c36381c13d32",
   "metadata": {},
   "source": [
    "Define a classify function to determine whether to fall the true branch or false branch"
   ]
  },
  {
   "cell_type": "code",
   "execution_count": 42,
   "id": "c475fedd-58a9-4ba9-8f3d-604a872e22e4",
   "metadata": {},
   "outputs": [],
   "source": [
    "def classify(row,node):\n",
    "    if isinstance(node,Leaf):\n",
    "        return node.predictions\n",
    "\n",
    "    if node.question.match(row):\n",
    "        return classify(row,node.true_branch)\n",
    "    else:\n",
    "        return classify(row,node.false_branch)"
   ]
  },
  {
   "cell_type": "markdown",
   "id": "d836d8c0-1e2d-456f-8f2c-ca24057efb90",
   "metadata": {},
   "source": [
    "Define a function to print the predictions at a leaf"
   ]
  },
  {
   "cell_type": "code",
   "execution_count": 43,
   "id": "3b7c7e97-57bf-45e4-a931-9e218f75b23b",
   "metadata": {},
   "outputs": [],
   "source": [
    "def print_leaf(counts):\n",
    "    total=sum(counts.values())*1.0\n",
    "    probs={}\n",
    "    for lbl in counts.keys():\n",
    "        probs[lbl]=str(int(counts[lbl]/total*100))+\"%\"\n",
    "    return probs    "
   ]
  },
  {
   "cell_type": "code",
   "execution_count": 45,
   "id": "f53e342f-6a2e-488b-9d41-b0ff82c0d163",
   "metadata": {},
   "outputs": [
    {
     "name": "stdout",
     "output_type": "stream",
     "text": [
      "Is 1 >= 3?\n",
      "--> True:\n",
      "  Is 0 == Yellow?\n",
      "  --> True:\n",
      "    Predict {'Mango': 1, 'Lemon': 1}\n",
      "  --> False:\n",
      "    Predict {'Mango': 1}\n",
      "--> False:\n",
      "  Predict {'Grape': 2}\n",
      "Actual:Mango. Predicted:{'Mango': '100%'}\n",
      "Actual:Mango. Predicted:{'Mango': '50%', 'Lemon': '50%'}\n",
      "Actual:Grape. Predicted:{'Grape': '100%'}\n",
      "Actual:Grape. Predicted:{'Grape': '100%'}\n",
      "Actual:Lemon. Predicted:{'Mango': '50%', 'Lemon': '50%'}\n"
     ]
    }
   ],
   "source": [
    "if __name__ == '__main__':\n",
    "    my_tree=build_tree(training_data)\n",
    "    print_tree(my_tree)\n",
    "\n",
    "    #Evaluate\n",
    "    testing_data=[\n",
    "         ['Green',3,'Mango'],\n",
    "    ['Yellow',4,'Mango'],\n",
    "    ['Red',2,'Grape'],\n",
    "    ['Red',1,'Grape'],\n",
    "    ['Yellow',3,'Lemon'],\n",
    "    ]\n",
    "    for row in testing_data:\n",
    "        print(\"Actual:%s. Predicted:%s\" %\n",
    "             (row[-1],print_leaf(classify(row,my_tree))))"
   ]
  },
  {
   "cell_type": "code",
   "execution_count": null,
   "id": "69105778-db9f-4564-8081-5192c17ef9dd",
   "metadata": {},
   "outputs": [],
   "source": []
  }
 ],
 "metadata": {
  "kernelspec": {
   "display_name": "Python 3 (ipykernel)",
   "language": "python",
   "name": "python3"
  },
  "language_info": {
   "codemirror_mode": {
    "name": "ipython",
    "version": 3
   },
   "file_extension": ".py",
   "mimetype": "text/x-python",
   "name": "python",
   "nbconvert_exporter": "python",
   "pygments_lexer": "ipython3",
   "version": "3.9.19"
  }
 },
 "nbformat": 4,
 "nbformat_minor": 5
}
