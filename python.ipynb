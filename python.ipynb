{
 "cells": [
  {
   "cell_type": "code",
   "execution_count": 1,
   "id": "0822b8ee-aca6-4588-a8b0-43f9a1e16365",
   "metadata": {},
   "outputs": [],
   "source": [
    "s=\"python is a good lang\"\n",
    "t='its goodfor data science'"
   ]
  },
  {
   "cell_type": "code",
   "execution_count": 2,
   "id": "e401acd9-4778-4e42-8777-87a0ad926f53",
   "metadata": {},
   "outputs": [
    {
     "data": {
      "text/plain": [
       "str"
      ]
     },
     "execution_count": 2,
     "metadata": {},
     "output_type": "execute_result"
    }
   ],
   "source": [
    "type(s)\n"
   ]
  },
  {
   "cell_type": "code",
   "execution_count": 3,
   "id": "e4fd86e7-b8aa-4939-8d1f-551de0e731f5",
   "metadata": {},
   "outputs": [
    {
     "name": "stdout",
     "output_type": "stream",
     "text": [
      "python is a good lang\n"
     ]
    }
   ],
   "source": [
    "print(s)\n"
   ]
  },
  {
   "cell_type": "code",
   "execution_count": 5,
   "id": "1e22774d-d44b-4cea-ad28-d531b391d093",
   "metadata": {},
   "outputs": [
    {
     "name": "stdout",
     "output_type": "stream",
     "text": [
      "python is a good lang its goodfor data science\n"
     ]
    }
   ],
   "source": [
    "v=s+ ' ' +t\n",
    "print(v)"
   ]
  },
  {
   "cell_type": "code",
   "execution_count": 6,
   "id": "a7fe1720-dcb3-447b-bf66-f1fc172efb9b",
   "metadata": {},
   "outputs": [
    {
     "name": "stdout",
     "output_type": "stream",
     "text": [
      "this is line 1\n",
      "this is line 2\n",
      "and this is line 3\n"
     ]
    }
   ],
   "source": [
    "a=\"\"\"this is line 1\n",
    "this is line 2\n",
    "and this is line 3\"\"\"\n",
    "print(a)"
   ]
  },
  {
   "cell_type": "code",
   "execution_count": null,
   "id": "12e06e85-16e6-433e-a1d3-2fa9210eca06",
   "metadata": {},
   "outputs": [],
   "source": []
  }
 ],
 "metadata": {
  "kernelspec": {
   "display_name": "Python 3 (ipykernel)",
   "language": "python",
   "name": "python3"
  },
  "language_info": {
   "codemirror_mode": {
    "name": "ipython",
    "version": 3
   },
   "file_extension": ".py",
   "mimetype": "text/x-python",
   "name": "python",
   "nbconvert_exporter": "python",
   "pygments_lexer": "ipython3",
   "version": "3.12.4"
  }
 },
 "nbformat": 4,
 "nbformat_minor": 5
}
