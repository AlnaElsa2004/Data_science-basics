{
 "cells": [
  {
   "cell_type": "markdown",
   "id": "432241cb-8e19-4289-9930-928ae9d4f52e",
   "metadata": {},
   "source": [
    "Implementation of KNN algorithm using python"
   ]
  },
  {
   "cell_type": "markdown",
   "id": "3ca2b05e-57d0-4c46-896a-cd0eeddafb50",
   "metadata": {},
   "source": [
    "Import the necessary libraries"
   ]
  },
  {
   "cell_type": "code",
   "execution_count": 4,
   "id": "a32c42a3-4ba7-46d0-874c-bf7ef4e33032",
   "metadata": {},
   "outputs": [],
   "source": [
    "import pandas as pd\n",
    "import csv"
   ]
  },
  {
   "cell_type": "markdown",
   "id": "2fd70849-96c5-48ed-a2be-b09ca0c783c8",
   "metadata": {},
   "source": [
    "Open the csv file containing the details of flower"
   ]
  },
  {
   "cell_type": "code",
   "execution_count": 7,
   "id": "7c4fcf26-f444-471d-b698-f33ffd99e01d",
   "metadata": {},
   "outputs": [
    {
     "name": "stdout",
     "output_type": "stream",
     "text": [
      "sepal.length,sepal.width,petal.length,petal.width,variety\n",
      "5.1,3.5,1.4,.2,Setosa\n",
      "4.9,3,1.4,.2,Setosa\n",
      "4.7,3.2,1.3,.2,Setosa\n",
      "4.6,3.1,1.5,.2,Setosa\n",
      "5,3.6,1.4,.2,Setosa\n",
      "5.4,3.9,1.7,.4,Setosa\n",
      "4.6,3.4,1.4,.3,Setosa\n",
      "5,3.4,1.5,.2,Setosa\n",
      "4.4,2.9,1.4,.2,Setosa\n",
      "4.9,3.1,1.5,.1,Setosa\n",
      "5.4,3.7,1.5,.2,Setosa\n",
      "4.8,3.4,1.6,.2,Setosa\n",
      "4.8,3,1.4,.1,Setosa\n",
      "4.3,3,1.1,.1,Setosa\n",
      "5.8,4,1.2,.2,Setosa\n",
      "5.7,4.4,1.5,.4,Setosa\n",
      "5.4,3.9,1.3,.4,Setosa\n",
      "5.1,3.5,1.4,.3,Setosa\n",
      "5.7,3.8,1.7,.3,Setosa\n",
      "5.1,3.8,1.5,.3,Setosa\n",
      "5.4,3.4,1.7,.2,Setosa\n",
      "5.1,3.7,1.5,.4,Setosa\n",
      "4.6,3.6,1,.2,Setosa\n",
      "5.1,3.3,1.7,.5,Setosa\n",
      "4.8,3.4,1.9,.2,Setosa\n",
      "5,3,1.6,.2,Setosa\n",
      "5,3.4,1.6,.4,Setosa\n",
      "5.2,3.5,1.5,.2,Setosa\n",
      "5.2,3.4,1.4,.2,Setosa\n",
      "4.7,3.2,1.6,.2,Setosa\n",
      "4.8,3.1,1.6,.2,Setosa\n",
      "5.4,3.4,1.5,.4,Setosa\n",
      "5.2,4.1,1.5,.1,Setosa\n",
      "5.5,4.2,1.4,.2,Setosa\n",
      "4.9,3.1,1.5,.2,Setosa\n",
      "5,3.2,1.2,.2,Setosa\n",
      "5.5,3.5,1.3,.2,Setosa\n",
      "4.9,3.6,1.4,.1,Setosa\n",
      "4.4,3,1.3,.2,Setosa\n",
      "5.1,3.4,1.5,.2,Setosa\n",
      "5,3.5,1.3,.3,Setosa\n",
      "4.5,2.3,1.3,.3,Setosa\n",
      "4.4,3.2,1.3,.2,Setosa\n",
      "5,3.5,1.6,.6,Setosa\n",
      "5.1,3.8,1.9,.4,Setosa\n",
      "4.8,3,1.4,.3,Setosa\n",
      "5.1,3.8,1.6,.2,Setosa\n",
      "4.6,3.2,1.4,.2,Setosa\n",
      "5.3,3.7,1.5,.2,Setosa\n",
      "5,3.3,1.4,.2,Setosa\n",
      "7,3.2,4.7,1.4,Versicolor\n",
      "6.4,3.2,4.5,1.5,Versicolor\n",
      "6.9,3.1,4.9,1.5,Versicolor\n",
      "5.5,2.3,4,1.3,Versicolor\n",
      "6.5,2.8,4.6,1.5,Versicolor\n",
      "5.7,2.8,4.5,1.3,Versicolor\n",
      "6.3,3.3,4.7,1.6,Versicolor\n",
      "4.9,2.4,3.3,1,Versicolor\n",
      "6.6,2.9,4.6,1.3,Versicolor\n",
      "5.2,2.7,3.9,1.4,Versicolor\n",
      "5,2,3.5,1,Versicolor\n",
      "5.9,3,4.2,1.5,Versicolor\n",
      "6,2.2,4,1,Versicolor\n",
      "6.1,2.9,4.7,1.4,Versicolor\n",
      "5.6,2.9,3.6,1.3,Versicolor\n",
      "6.7,3.1,4.4,1.4,Versicolor\n",
      "5.6,3,4.5,1.5,Versicolor\n",
      "5.8,2.7,4.1,1,Versicolor\n",
      "6.2,2.2,4.5,1.5,Versicolor\n",
      "5.6,2.5,3.9,1.1,Versicolor\n",
      "5.9,3.2,4.8,1.8,Versicolor\n",
      "6.1,2.8,4,1.3,Versicolor\n",
      "6.3,2.5,4.9,1.5,Versicolor\n",
      "6.1,2.8,4.7,1.2,Versicolor\n",
      "6.4,2.9,4.3,1.3,Versicolor\n",
      "6.6,3,4.4,1.4,Versicolor\n",
      "6.8,2.8,4.8,1.4,Versicolor\n",
      "6.7,3,5,1.7,Versicolor\n",
      "6,2.9,4.5,1.5,Versicolor\n",
      "5.7,2.6,3.5,1,Versicolor\n",
      "5.5,2.4,3.8,1.1,Versicolor\n",
      "5.5,2.4,3.7,1,Versicolor\n",
      "5.8,2.7,3.9,1.2,Versicolor\n",
      "6,2.7,5.1,1.6,Versicolor\n",
      "5.4,3,4.5,1.5,Versicolor\n",
      "6,3.4,4.5,1.6,Versicolor\n",
      "6.7,3.1,4.7,1.5,Versicolor\n",
      "6.3,2.3,4.4,1.3,Versicolor\n",
      "5.6,3,4.1,1.3,Versicolor\n",
      "5.5,2.5,4,1.3,Versicolor\n",
      "5.5,2.6,4.4,1.2,Versicolor\n",
      "6.1,3,4.6,1.4,Versicolor\n",
      "5.8,2.6,4,1.2,Versicolor\n",
      "5,2.3,3.3,1,Versicolor\n",
      "5.6,2.7,4.2,1.3,Versicolor\n",
      "5.7,3,4.2,1.2,Versicolor\n",
      "5.7,2.9,4.2,1.3,Versicolor\n",
      "6.2,2.9,4.3,1.3,Versicolor\n",
      "5.1,2.5,3,1.1,Versicolor\n",
      "5.7,2.8,4.1,1.3,Versicolor\n",
      "6.3,3.3,6,2.5,Virginica\n",
      "5.8,2.7,5.1,1.9,Virginica\n",
      "7.1,3,5.9,2.1,Virginica\n",
      "6.3,2.9,5.6,1.8,Virginica\n",
      "6.5,3,5.8,2.2,Virginica\n",
      "7.6,3,6.6,2.1,Virginica\n",
      "4.9,2.5,4.5,1.7,Virginica\n",
      "7.3,2.9,6.3,1.8,Virginica\n",
      "6.7,2.5,5.8,1.8,Virginica\n",
      "7.2,3.6,6.1,2.5,Virginica\n",
      "6.5,3.2,5.1,2,Virginica\n",
      "6.4,2.7,5.3,1.9,Virginica\n",
      "6.8,3,5.5,2.1,Virginica\n",
      "5.7,2.5,5,2,Virginica\n",
      "5.8,2.8,5.1,2.4,Virginica\n",
      "6.4,3.2,5.3,2.3,Virginica\n",
      "6.5,3,5.5,1.8,Virginica\n",
      "7.7,3.8,6.7,2.2,Virginica\n",
      "7.7,2.6,6.9,2.3,Virginica\n",
      "6,2.2,5,1.5,Virginica\n",
      "6.9,3.2,5.7,2.3,Virginica\n",
      "5.6,2.8,4.9,2,Virginica\n",
      "7.7,2.8,6.7,2,Virginica\n",
      "6.3,2.7,4.9,1.8,Virginica\n",
      "6.7,3.3,5.7,2.1,Virginica\n",
      "7.2,3.2,6,1.8,Virginica\n",
      "6.2,2.8,4.8,1.8,Virginica\n",
      "6.1,3,4.9,1.8,Virginica\n",
      "6.4,2.8,5.6,2.1,Virginica\n",
      "7.2,3,5.8,1.6,Virginica\n",
      "7.4,2.8,6.1,1.9,Virginica\n",
      "7.9,3.8,6.4,2,Virginica\n",
      "6.4,2.8,5.6,2.2,Virginica\n",
      "6.3,2.8,5.1,1.5,Virginica\n",
      "6.1,2.6,5.6,1.4,Virginica\n",
      "7.7,3,6.1,2.3,Virginica\n",
      "6.3,3.4,5.6,2.4,Virginica\n",
      "6.4,3.1,5.5,1.8,Virginica\n",
      "6,3,4.8,1.8,Virginica\n",
      "6.9,3.1,5.4,2.1,Virginica\n",
      "6.7,3.1,5.6,2.4,Virginica\n",
      "6.9,3.1,5.1,2.3,Virginica\n",
      "5.8,2.7,5.1,1.9,Virginica\n",
      "6.8,3.2,5.9,2.3,Virginica\n",
      "6.7,3.3,5.7,2.5,Virginica\n",
      "6.7,3,5.2,2.3,Virginica\n",
      "6.3,2.5,5,1.9,Virginica\n",
      "6.5,3,5.2,2,Virginica\n",
      "6.2,3.4,5.4,2.3,Virginica\n",
      "5.9,3,5.1,1.8,Virginica\n"
     ]
    }
   ],
   "source": [
    "\n",
    "with open(\"C:/Users/hp/Desktop/DS/iris.csv\", newline='') as csvfile:\n",
    "    lines = csv.reader(csvfile)\n",
    "    for row in lines:\n",
    "        print(','.join(row))"
   ]
  },
  {
   "cell_type": "markdown",
   "id": "cd57c6c8-6e0e-4c00-9d96-7b499d36031e",
   "metadata": {},
   "source": [
    "Create a function named loadDataset to split into training and test dataset"
   ]
  },
  {
   "cell_type": "code",
   "execution_count": 15,
   "id": "32005b42-da45-4bd9-8986-a6660d221d9b",
   "metadata": {},
   "outputs": [],
   "source": [
    "import random\n",
    "import csv\n",
    "\n",
    "def loadDataset(filename, split, trainingSet=[], testSet=[]):\n",
    "    with open(filename, 'r') as csvfile:\n",
    "        lines = csv.reader(csvfile)\n",
    "        next(lines)  # Skip the header row\n",
    "        dataset = list(lines)\n",
    "        for x in range(len(dataset)):\n",
    "            for y in range(4):\n",
    "                dataset[x][y] = float(dataset[x][y])\n",
    "            if random.random() < split:\n",
    "                trainingSet.append(dataset[x])\n",
    "            else:\n",
    "                testSet.append(dataset[x])\n",
    "\n"
   ]
  },
  {
   "cell_type": "code",
   "execution_count": 16,
   "id": "b9e77d06-599d-42fd-b408-5232cf8cee4f",
   "metadata": {},
   "outputs": [
    {
     "name": "stdout",
     "output_type": "stream",
     "text": [
      "Train: 94\n",
      "Test: 56\n"
     ]
    }
   ],
   "source": [
    "trainingSet=[]\n",
    "testSet=[]\n",
    "loadDataset('C:/Users/hp/Desktop/DS/iris.csv', 0.66, trainingSet, testSet)\n",
    "print('Train: '+repr(len(trainingSet)))\n",
    "print('Test: '+repr(len(testSet)))"
   ]
  },
  {
   "cell_type": "markdown",
   "id": "94cdb22f-2869-4e2c-87e5-36b934b5c9b0",
   "metadata": {},
   "source": [
    "Define euclideanDistance function to calculate the euclidean distance"
   ]
  },
  {
   "cell_type": "code",
   "execution_count": 18,
   "id": "f1edb339-7986-4d5c-bd66-a48add88dddf",
   "metadata": {},
   "outputs": [],
   "source": [
    "import math\n",
    "def euclideanDistance(instance1,instance2,length):\n",
    "    distance=0\n",
    "    for x in range(length):\n",
    "        distance+=pow((instance1[x]-instance2[x]),2)\n",
    "    return math.sqrt(distance)    "
   ]
  },
  {
   "cell_type": "markdown",
   "id": "237d93be-4253-4ac9-92c9-94e29b0cc412",
   "metadata": {},
   "source": [
    "Executing the function"
   ]
  },
  {
   "cell_type": "code",
   "execution_count": 19,
   "id": "87a33b0b-6a5d-40f2-8e30-672e7252cd89",
   "metadata": {},
   "outputs": [
    {
     "name": "stdout",
     "output_type": "stream",
     "text": [
      "Distance: 3.4641016151377544\n"
     ]
    }
   ],
   "source": [
    "data1=[2,2,2,'a']\n",
    "data2=[4,4,4,'b']\n",
    "distance=euclideanDistance(data1,data2,3)\n",
    "print('Distance: '+repr(distance))"
   ]
  },
  {
   "cell_type": "markdown",
   "id": "21ece060-eb5e-45be-bb87-1860e939613a",
   "metadata": {},
   "source": [
    "Define a function to return the K most similar neighbours from the training set for a given test instance "
   ]
  },
  {
   "cell_type": "code",
   "execution_count": 20,
   "id": "82010016-cdd1-4d2c-8588-028b579d6ac0",
   "metadata": {},
   "outputs": [],
   "source": [
    "import operator\n",
    "def getNeighbors(trainingSet,testInstance,k):\n",
    "    distances=[]\n",
    "    length=len(testInstance)-1\n",
    "    for x in range(len(trainingSet)):\n",
    "        dist=euclideanDistance(testInstance,trainingSet[x],length)\n",
    "        distances.append((trainingSet[x],dist))\n",
    "    distances.sort(key=operator.itemgetter(1))\n",
    "    neighbors=[]\n",
    "    for x in range(k):\n",
    "        neighbors.append(distances[x][0])\n",
    "    return neighbors    "
   ]
  },
  {
   "cell_type": "markdown",
   "id": "0044d0f0-907e-4b3e-a8d0-4274fe567a38",
   "metadata": {},
   "source": [
    "Testing the function"
   ]
  },
  {
   "cell_type": "code",
   "execution_count": 21,
   "id": "6f45dac6-f4e3-4cdb-800e-97909093a5d0",
   "metadata": {},
   "outputs": [
    {
     "name": "stdout",
     "output_type": "stream",
     "text": [
      "[[4, 4, 4, 'b']]\n"
     ]
    }
   ],
   "source": [
    "trainSet=[[2,2,2,'a'],[4,4,4,'b']]\n",
    "testInstance=[5,5,5]\n",
    "k=1\n",
    "neighbors=getNeighbors(trainSet,testInstance,1)\n",
    "print(neighbors)"
   ]
  },
  {
   "cell_type": "markdown",
   "id": "61ba4568-9174-495d-9fde-79bf4955f7c9",
   "metadata": {},
   "source": [
    "Define a function to predict the response based on neighbours"
   ]
  },
  {
   "cell_type": "code",
   "execution_count": 24,
   "id": "93d6ec3e-e1d7-406f-9d65-67332ad8f3e0",
   "metadata": {},
   "outputs": [],
   "source": [
    "def getResponse(neighbors):\n",
    "    classVotes={}\n",
    "    for x in range(len(neighbors)):\n",
    "        response=neighbors[x][-1]\n",
    "        if response in classVotes:\n",
    "            classVotes[response]+=1\n",
    "        else:\n",
    "            classVotes[response]=1\n",
    "    sortedVotes=sorted(classVotes.items(),key=operator.itemgetter(1),reverse=True)\n",
    "    return sortedVotes[0][0]"
   ]
  },
  {
   "cell_type": "code",
   "execution_count": 25,
   "id": "98eb1b04-85fc-4c65-bc9e-df43c801ff14",
   "metadata": {},
   "outputs": [
    {
     "name": "stdout",
     "output_type": "stream",
     "text": [
      "a\n"
     ]
    }
   ],
   "source": [
    "neighbors=[[1,1,1,'a'],[2,2,2,'a'],[3,3,3,'b']]\n",
    "print(getResponse(neighbors))"
   ]
  },
  {
   "cell_type": "markdown",
   "id": "985b77d9-d42d-4813-9393-b199aced9f16",
   "metadata": {},
   "source": [
    "Define a function to evaluate the accuracy of prediction which is the ratio of total correct prediction to all the predictions made "
   ]
  },
  {
   "cell_type": "code",
   "execution_count": 31,
   "id": "409d07f2-22ea-47c5-b565-1ab63e736cce",
   "metadata": {},
   "outputs": [],
   "source": [
    "def getAccuracy(testSet, predictions):\n",
    "    correct = 0\n",
    "    for x in range(len(testSet)):\n",
    "        if testSet[x][-1] == predictions[x]:\n",
    "            correct += 1\n",
    "    return (correct / float(len(testSet))) * 100.0"
   ]
  },
  {
   "cell_type": "markdown",
   "id": "a931e6f9-39ab-4ce9-a0a8-42f808d668be",
   "metadata": {},
   "source": [
    "Testing"
   ]
  },
  {
   "cell_type": "code",
   "execution_count": 32,
   "id": "83369d1b-6844-4246-aea4-dde30e3ccb3d",
   "metadata": {},
   "outputs": [
    {
     "name": "stdout",
     "output_type": "stream",
     "text": [
      "66.66666666666666\n"
     ]
    }
   ],
   "source": [
    "testSet=[[1,1,1,'a'],[2,2,2,'a'],[3,3,3,'b']]\n",
    "predictions=['a','a','a']\n",
    "accuracy=getAccuracy(testSet,predictions)\n",
    "print(accuracy)"
   ]
  },
  {
   "cell_type": "markdown",
   "id": "03c1fbd0-eab5-4cbc-aa67-294ef00a1c9a",
   "metadata": {},
   "source": [
    "Main function"
   ]
  },
  {
   "cell_type": "code",
   "execution_count": 34,
   "id": "72009a68-a574-4f22-bbe9-7daffb7fed9a",
   "metadata": {},
   "outputs": [
    {
     "name": "stdout",
     "output_type": "stream",
     "text": [
      "Train set: 100\n",
      "Test set: 50\n",
      "> predicted='Setosa', actual='Setosa'\n",
      "> predicted='Setosa', actual='Setosa'\n",
      "> predicted='Setosa', actual='Setosa'\n",
      "> predicted='Setosa', actual='Setosa'\n",
      "> predicted='Setosa', actual='Setosa'\n",
      "> predicted='Setosa', actual='Setosa'\n",
      "> predicted='Setosa', actual='Setosa'\n",
      "> predicted='Setosa', actual='Setosa'\n",
      "> predicted='Setosa', actual='Setosa'\n",
      "> predicted='Setosa', actual='Setosa'\n",
      "> predicted='Setosa', actual='Setosa'\n",
      "> predicted='Setosa', actual='Setosa'\n",
      "> predicted='Setosa', actual='Setosa'\n",
      "> predicted='Setosa', actual='Setosa'\n",
      "> predicted='Versicolor', actual='Versicolor'\n",
      "> predicted='Versicolor', actual='Versicolor'\n",
      "> predicted='Versicolor', actual='Versicolor'\n",
      "> predicted='Versicolor', actual='Versicolor'\n",
      "> predicted='Versicolor', actual='Versicolor'\n",
      "> predicted='Versicolor', actual='Versicolor'\n",
      "> predicted='Versicolor', actual='Versicolor'\n",
      "> predicted='Versicolor', actual='Versicolor'\n",
      "> predicted='Versicolor', actual='Versicolor'\n",
      "> predicted='Versicolor', actual='Versicolor'\n",
      "> predicted='Versicolor', actual='Versicolor'\n",
      "> predicted='Versicolor', actual='Versicolor'\n",
      "> predicted='Versicolor', actual='Versicolor'\n",
      "> predicted='Versicolor', actual='Versicolor'\n",
      "> predicted='Versicolor', actual='Versicolor'\n",
      "> predicted='Versicolor', actual='Versicolor'\n",
      "> predicted='Versicolor', actual='Versicolor'\n",
      "> predicted='Virginica', actual='Virginica'\n",
      "> predicted='Virginica', actual='Virginica'\n",
      "> predicted='Virginica', actual='Virginica'\n",
      "> predicted='Virginica', actual='Virginica'\n",
      "> predicted='Virginica', actual='Virginica'\n",
      "> predicted='Virginica', actual='Virginica'\n",
      "> predicted='Versicolor', actual='Virginica'\n",
      "> predicted='Virginica', actual='Virginica'\n",
      "> predicted='Virginica', actual='Virginica'\n",
      "> predicted='Virginica', actual='Virginica'\n",
      "> predicted='Virginica', actual='Virginica'\n",
      "> predicted='Virginica', actual='Virginica'\n",
      "> predicted='Virginica', actual='Virginica'\n",
      "> predicted='Virginica', actual='Virginica'\n",
      "> predicted='Virginica', actual='Virginica'\n",
      "> predicted='Virginica', actual='Virginica'\n",
      "> predicted='Virginica', actual='Virginica'\n",
      "> predicted='Virginica', actual='Virginica'\n",
      "> predicted='Virginica', actual='Virginica'\n",
      "Accuracy: 98.0%\n"
     ]
    }
   ],
   "source": [
    "def main():\n",
    "    trainingSet = []\n",
    "    testSet = []\n",
    "    split = 0.67\n",
    "    loadDataset('iris.csv', split, trainingSet, testSet)\n",
    "    print('Train set: ' + repr(len(trainingSet)))\n",
    "    print('Test set: ' + repr(len(testSet)))\n",
    "    predictions = []\n",
    "    k = 3\n",
    "    for x in range(len(testSet)):\n",
    "        neighbors = getNeighbors(trainingSet, testSet[x], k)\n",
    "        result = getResponse(neighbors)\n",
    "        predictions.append(result)\n",
    "        print('> predicted=' + repr(result) + ', actual=' + repr(testSet[x][-1]))\n",
    "    accuracy = getAccuracy(testSet, predictions)\n",
    "    print('Accuracy: ' + repr(accuracy) + '%')\n",
    "\n",
    "main()"
   ]
  },
  {
   "cell_type": "code",
   "execution_count": null,
   "id": "3432f249-d394-4881-8a4a-544dd29e36e4",
   "metadata": {},
   "outputs": [],
   "source": []
  }
 ],
 "metadata": {
  "kernelspec": {
   "display_name": "Python 3 (ipykernel)",
   "language": "python",
   "name": "python3"
  },
  "language_info": {
   "codemirror_mode": {
    "name": "ipython",
    "version": 3
   },
   "file_extension": ".py",
   "mimetype": "text/x-python",
   "name": "python",
   "nbconvert_exporter": "python",
   "pygments_lexer": "ipython3",
   "version": "3.9.19"
  }
 },
 "nbformat": 4,
 "nbformat_minor": 5
}
